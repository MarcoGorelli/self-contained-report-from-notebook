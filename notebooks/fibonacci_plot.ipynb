{
 "cells": [
  {
   "cell_type": "markdown",
   "metadata": {},
   "source": [
    "# Fibonacci Plot"
   ]
  },
  {
   "cell_type": "code",
   "execution_count": null,
   "metadata": {
    "tags": [
     "remove-input"
    ]
   },
   "outputs": [],
   "source": [
    "# source: https://stackoverflow.com/a/28073228/9988333\n",
    "\n",
    "from IPython.display import HTML\n",
    "\n",
    "HTML(\n",
    "    \"\"\"<script>\n",
    "code_show=true; \n",
    "function code_toggle() {\n",
    " if (code_show){\n",
    " $('div.input').hide();\n",
    " } else {\n",
    " $('div.input').show();\n",
    " }\n",
    " code_show = !code_show\n",
    "} \n",
    "$( document ).ready(code_toggle);\n",
    "</script>\n",
    "<form action=\"javascript:code_toggle()\"><input type=\"submit\" value=\"Click here to toggle on/off the raw code.\"></form>\"\"\"\n",
    ")"
   ]
  },
  {
   "cell_type": "code",
   "execution_count": null,
   "metadata": {},
   "outputs": [],
   "source": [
    "from math import sqrt\n",
    "\n",
    "import plotly.express as px\n",
    "from IPython.display import Markdown, display\n",
    "from tqdm import tqdm\n",
    "\n",
    "import numpy as np\n",
    "import pandas as pd"
   ]
  },
  {
   "cell_type": "code",
   "execution_count": null,
   "metadata": {},
   "outputs": [],
   "source": [
    "N_FIBONACCI_NUMBERS = 30\n",
    "INDENT = \"&nbsp;\" * 29"
   ]
  },
  {
   "cell_type": "code",
   "execution_count": null,
   "metadata": {},
   "outputs": [],
   "source": [
    "Markdown(\n",
    "    r\"\"\"\n",
    "According to [Wikipedia](https://en.wikipedia.org/wiki/Fibonacci_number),\n",
    "\n",
    "> In mathematics, the Fibonacci numbers, commonly denoted Fn, form a sequence, called the Fibonacci sequence, such that each number is the sum of the two preceding ones, starting from 0 and 1. That is,\n",
    ">\n",
    "> $$F_0 = 0 , F_1 = 1,$$\n",
    ">\n",
    "> and\n",
    ">\n",
    "> $$F_n = F_{n-1} + F_{n-2},$$\n",
    ">\n",
    "> for n > 1.\n",
    "\"\"\"\n",
    ")"
   ]
  },
  {
   "cell_type": "code",
   "execution_count": null,
   "metadata": {},
   "outputs": [],
   "source": [
    "Markdown(\n",
    "    r\"\"\"\n",
    "There exists an amazing closed-formula to calculate the nth term of the Fibonacci sequence:\n",
    "\n",
    "$$F_n=\\frac{1}{\\sqrt{5}}\\left(\\left(\\frac{1+\\sqrt{5}}{2}\\right)^n-\\left(\\frac{1-\\sqrt{5}}{2}\\right)^n\\right)$$\n",
    "\"\"\"\n",
    ")"
   ]
  },
  {
   "cell_type": "code",
   "execution_count": null,
   "metadata": {},
   "outputs": [],
   "source": [
    "def fibonacci(n: int) -> int:\n",
    "    \"\"\"\n",
    "    Calculate n-th term of the Fibonacci Sequence.\n",
    "    \n",
    "    Parameters\n",
    "    ----------\n",
    "    n : int\n",
    "        Fibonacci number you wish to calculate.\n",
    "    \n",
    "    Returns\n",
    "    -------\n",
    "    int\n",
    "        n-th Fibonacci number.\n",
    "    \n",
    "    Examples\n",
    "    --------\n",
    "    >>> fibonacci(1), fibonacci(2), fibonacci(3), fibonacci(4)\n",
    "    (1, 1, 2, 3)\n",
    "    \"\"\"\n",
    "    return int((1 / sqrt(5)) * (((1 + sqrt(5)) / 2) ** n - ((1 - sqrt(5)) / 2) ** n))"
   ]
  },
  {
   "cell_type": "code",
   "execution_count": null,
   "metadata": {},
   "outputs": [],
   "source": [
    "Markdown(\n",
    "    rf\"\"\"\n",
    "Let's plot the first {N_FIBONACCI_NUMBERS} Fibonacci numbers - notice how quickly they grow!\n",
    "\"\"\"\n",
    ")"
   ]
  },
  {
   "cell_type": "code",
   "execution_count": null,
   "metadata": {},
   "outputs": [],
   "source": [
    "x = np.arange(N_FIBONACCI_NUMBERS)\n",
    "y = np.vectorize(fibonacci)(x)\n",
    "df = pd.DataFrame({\"x\": x, \"y\": y})\n",
    "fig = px.scatter(\n",
    "    df,\n",
    "    x=\"x\",\n",
    "    y=\"y\",\n",
    "    title=f\"The first {N_FIBONACCI_NUMBERS} Fibonacci numbers\",\n",
    "    labels={\"x\": \"$n$\", \"y\": \"$F_n$\"},\n",
    ")\n",
    "fig.show()"
   ]
  },
  {
   "cell_type": "code",
   "execution_count": null,
   "metadata": {},
   "outputs": [],
   "source": []
  }
 ],
 "metadata": {
  "kernelspec": {
   "display_name": "notebook-demo",
   "language": "python",
   "name": "notebook-demo"
  },
  "language_info": {
   "codemirror_mode": {
    "name": "ipython",
    "version": 3
   },
   "file_extension": ".py",
   "mimetype": "text/x-python",
   "name": "python",
   "nbconvert_exporter": "python",
   "pygments_lexer": "ipython3",
   "version": "3.8.3"
  }
 },
 "nbformat": 4,
 "nbformat_minor": 4
}
